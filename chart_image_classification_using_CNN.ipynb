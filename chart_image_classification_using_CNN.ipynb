{
 "cells": [
  {
   "cell_type": "code",
   "execution_count": 65,
   "metadata": {
    "id": "-KTsvN9GE5p5"
   },
   "outputs": [],
   "source": [
    "import numpy as np\n",
    "import pandas as pd\n",
    "import cv2\n",
    "import random"
   ]
  },
  {
   "cell_type": "code",
   "execution_count": null,
   "metadata": {
    "id": "ZC5Pf2WoasyW"
   },
   "outputs": [],
   "source": []
  },
  {
   "cell_type": "code",
   "execution_count": 66,
   "metadata": {
    "id": "Ffl216KZGyZL"
   },
   "outputs": [],
   "source": [
    "#loading all the image data\n",
    "image_data=[]\n",
    "for i in range(0,1000):\n",
    "  img_col=[]\n",
    "  path='/content/drive/MyDrive/Colab Notebooks/charts/charts/train_val/'+str(i)+'.png'#provide the file location\n",
    "  img=cv2.imread(path)\n",
    "  image_data.append(img/255)\n"
   ]
  },
  {
   "cell_type": "code",
   "execution_count": 41,
   "metadata": {
    "id": "7FNR8Sd70NgA"
   },
   "outputs": [],
   "source": [
    "image_data=np.array(image_data).reshape(-1,128,128,3)"
   ]
  },
  {
   "cell_type": "code",
   "execution_count": 42,
   "metadata": {
    "colab": {
     "base_uri": "https://localhost:8080/"
    },
    "id": "Ooi4UTxy0aaM",
    "outputId": "e2130f14-2953-4a70-c582-1c91df9ede11"
   },
   "outputs": [
    {
     "data": {
      "text/plain": [
       "(1000, 128, 128, 3)"
      ]
     },
     "execution_count": 42,
     "metadata": {},
     "output_type": "execute_result"
    }
   ],
   "source": [
    "image_data.shape"
   ]
  },
  {
   "cell_type": "code",
   "execution_count": 67,
   "metadata": {
    "id": "2cI2H8CaxWlU"
   },
   "outputs": [],
   "source": [
    "#loading all the labels\n",
    "label=pd.read_csv('/content/drive/MyDrive/Colab Notebooks/charts/charts/train_val.csv')#provide the file location"
   ]
  },
  {
   "cell_type": "code",
   "execution_count": 68,
   "metadata": {
    "id": "8wYyfie4xWhk"
   },
   "outputs": [],
   "source": [
    "label_data_df=pd.get_dummies(label['type'])#converting the string labels into numric classes"
   ]
  },
  {
   "cell_type": "code",
   "execution_count": 69,
   "metadata": {
    "id": "y1kpPyslcZ1W"
   },
   "outputs": [],
   "source": [
    "label_names=label_data_df.columns#stroring label strings"
   ]
  },
  {
   "cell_type": "code",
   "execution_count": 70,
   "metadata": {
    "id": "S6rE7NubxWf8"
   },
   "outputs": [],
   "source": [
    "label_data=label_data_df.values.tolist()#converting label data into a list"
   ]
  },
  {
   "cell_type": "code",
   "execution_count": 71,
   "metadata": {
    "id": "H9Res1tTxWCB"
   },
   "outputs": [],
   "source": [
    "#storing the features and labels in a list to shufffle them for mixing up the data\n",
    "dataset=[]\n",
    "for i in range(0,1000):\n",
    "  dataset.append([image_data[i],label_data[i]])\n",
    "  "
   ]
  },
  {
   "cell_type": "code",
   "execution_count": 72,
   "metadata": {
    "id": "6wD0kjH2M4cp"
   },
   "outputs": [],
   "source": [
    "#shuffling up the data using random\n",
    "random.shuffle(dataset)"
   ]
  },
  {
   "cell_type": "code",
   "execution_count": 49,
   "metadata": {
    "id": "UpFO2avkUKmi"
   },
   "outputs": [],
   "source": [
    "#differentiating traing features and labels\n",
    "x_train=[]\n",
    "y_train=[]\n",
    "for i in range(0,1000):\n",
    "  x_train.append(dataset[i][0])\n",
    "  y_train.append(dataset[i][1])\n",
    "x_train=np.array(x_train).reshape(-1,128,128,3)#converting into numpy array tomake sure that the shape is correct for the model\n",
    "y_train=np.array(y_train)"
   ]
  },
  {
   "cell_type": "code",
   "execution_count": 50,
   "metadata": {
    "id": "e2_IicuVONBt"
   },
   "outputs": [],
   "source": [
    "from tensorflow import keras"
   ]
  },
  {
   "cell_type": "code",
   "execution_count": 53,
   "metadata": {
    "id": "mHeK-ahrYSzt"
   },
   "outputs": [],
   "source": [
    "#model with two CNN layer and one dense layer\n",
    "model=keras.models.Sequential()\n",
    "model.add(keras.layers.Conv2D(filters=64,strides=1,kernel_size=(3,3),activation='relu',input_shape=(128,128,3)))\n",
    "model.add(keras.layers.MaxPool2D(pool_size=(2,2),strides=1))\n",
    "\n",
    "model.add(keras.layers.Conv2D(filters=64,strides=1,kernel_size=(3,3),activation='relu'))\n",
    "model.add(keras.layers.MaxPool2D(pool_size=(2,2),strides=1))\n",
    "model.add(keras.layers.Flatten())\n",
    "\n",
    "model.add(keras.layers.Dense(5,activation='softmax'))\n",
    "model.compile(optimizer='adam',loss='categorical_crossentropy',metrics=['accuracy'])"
   ]
  },
  {
   "cell_type": "code",
   "execution_count": 54,
   "metadata": {
    "colab": {
     "base_uri": "https://localhost:8080/"
    },
    "id": "U8bb3YBA0Fvw",
    "outputId": "c8d9d64e-a173-42ad-8484-a28d3d38fbd5"
   },
   "outputs": [
    {
     "name": "stdout",
     "output_type": "stream",
     "text": [
      "Epoch 1/10\n",
      "80/80 [==============================] - 143s 2s/step - loss: 3.5309 - accuracy: 0.6513 - val_loss: 0.2361 - val_accuracy: 0.9050\n",
      "Epoch 2/10\n",
      "80/80 [==============================] - 144s 2s/step - loss: 0.1572 - accuracy: 0.9500 - val_loss: 0.1444 - val_accuracy: 0.9450\n",
      "Epoch 3/10\n",
      "80/80 [==============================] - 145s 2s/step - loss: 0.0951 - accuracy: 0.9688 - val_loss: 0.1162 - val_accuracy: 0.9500\n",
      "Epoch 4/10\n",
      "80/80 [==============================] - 145s 2s/step - loss: 0.0150 - accuracy: 1.0000 - val_loss: 0.0600 - val_accuracy: 0.9700\n",
      "Epoch 5/10\n",
      "80/80 [==============================] - 144s 2s/step - loss: 0.0044 - accuracy: 1.0000 - val_loss: 0.0795 - val_accuracy: 0.9650\n",
      "Epoch 6/10\n",
      "80/80 [==============================] - 146s 2s/step - loss: 0.0020 - accuracy: 1.0000 - val_loss: 0.0665 - val_accuracy: 0.9700\n",
      "Epoch 7/10\n",
      "80/80 [==============================] - 143s 2s/step - loss: 0.0011 - accuracy: 1.0000 - val_loss: 0.0705 - val_accuracy: 0.9700\n",
      "Epoch 8/10\n",
      "80/80 [==============================] - 144s 2s/step - loss: 7.4038e-04 - accuracy: 1.0000 - val_loss: 0.0779 - val_accuracy: 0.9700\n",
      "Epoch 9/10\n",
      "80/80 [==============================] - 143s 2s/step - loss: 5.2692e-04 - accuracy: 1.0000 - val_loss: 0.0794 - val_accuracy: 0.9700\n",
      "Epoch 10/10\n",
      "80/80 [==============================] - 146s 2s/step - loss: 4.1341e-04 - accuracy: 1.0000 - val_loss: 0.0758 - val_accuracy: 0.9700\n"
     ]
    },
    {
     "data": {
      "text/plain": [
       "<keras.callbacks.History at 0x7efdfea7e0d0>"
      ]
     },
     "execution_count": 54,
     "metadata": {},
     "output_type": "execute_result"
    }
   ],
   "source": [
    "model.fit(x_train,y_train,epochs=10,batch_size=10,shuffle=True,validation_split=0.2)"
   ]
  },
  {
   "cell_type": "code",
   "execution_count": 55,
   "metadata": {
    "id": "drpkWpit0gCo"
   },
   "outputs": [],
   "source": [
    "losses=pd.DataFrame(model.history.history)"
   ]
  },
  {
   "cell_type": "code",
   "execution_count": 57,
   "metadata": {
    "id": "rfeBc8FA-jL_"
   },
   "outputs": [],
   "source": [
    "from matplotlib import pyplot as plt"
   ]
  },
  {
   "cell_type": "code",
   "execution_count": 58,
   "metadata": {
    "colab": {
     "base_uri": "https://localhost:8080/",
     "height": 447
    },
    "id": "rhX0S2IgzAIO",
    "outputId": "f388b1fb-2779-4e55-8501-99abf43ba557"
   },
   "outputs": [
    {
     "data": {
      "text/plain": [
       "<Axes: >"
      ]
     },
     "execution_count": 58,
     "metadata": {},
     "output_type": "execute_result"
    },
    {
     "data": {
      "image/png": "[encoded data removed]",
      "text/plain": [
       "<Figure size 640x480 with 1 Axes>"
      ]
     },
     "metadata": {},
     "output_type": "display_data"
    }
   ],
   "source": [
    "\n",
    "losses[['loss','val_loss']].plot()"
   ]
  },
  {
   "cell_type": "code",
   "execution_count": 59,
   "metadata": {
    "colab": {
     "base_uri": "https://localhost:8080/",
     "height": 447
    },
    "id": "dYKl0OU0YMn6",
    "outputId": "620df842-7f53-4c1e-c15c-ab94fddc0879"
   },
   "outputs": [
    {
     "data": {
      "text/plain": [
       "<Axes: >"
      ]
     },
     "execution_count": 59,
     "metadata": {},
     "output_type": "execute_result"
    },
    {
     "data": {
      "image/png": "[encoded data removed]",
      "text/plain": [
       "<Figure size 640x480 with 1 Axes>"
      ]
     },
     "metadata": {},
     "output_type": "display_data"
    }
   ],
   "source": [
    "losses[['accuracy','val_accuracy']].plot()"
   ]
  },
  {
   "cell_type": "code",
   "execution_count": 60,
   "metadata": {
    "id": "wB5qBAvqZFG0"
   },
   "outputs": [],
   "source": [
    "test_data=[]\n",
    "for i in range(0,50):\n",
    "  img_col=[]\n",
    "  path='/content/drive/MyDrive/Colab Notebooks/charts/charts/test/'+str(i)+'.png'\n",
    "  img=cv2.imread(path)\n",
    "  test_data.append(img)\n",
    "test_data=np.array(test_data).reshape(-1,128,128,3)"
   ]
  },
  {
   "cell_type": "code",
   "execution_count": 61,
   "metadata": {
    "colab": {
     "base_uri": "https://localhost:8080/"
    },
    "id": "RGFDKI75bKEN",
    "outputId": "afd8d15c-cf67-48fb-f3d5-0cfb3c4dd554"
   },
   "outputs": [
    {
     "name": "stdout",
     "output_type": "stream",
     "text": [
      "2/2 [==============================] - 2s 578ms/step\n"
     ]
    }
   ],
   "source": [
    "pred=model.predict(test_data)\n",
    "predictions=[]\n",
    "for p in pred:\n",
    "  predictions.append(label_names[list(p).index(max(p))])\n",
    "\n",
    "\n"
   ]
  },
  {
   "cell_type": "code",
   "execution_count": 62,
   "metadata": {
    "colab": {
     "base_uri": "https://localhost:8080/"
    },
    "id": "MKBBDKnhbVrW",
    "outputId": "013f84bd-8631-47bc-92ce-d0d01e62771d"
   },
   "outputs": [
    {
     "name": "stdout",
     "output_type": "stream",
     "text": [
      "0 ====> vbar_categorical\n",
      "1 ====> hbar_categorical\n",
      "2 ====> vbar_categorical\n",
      "3 ====> hbar_categorical\n",
      "4 ====> line\n",
      "5 ====> line\n",
      "6 ====> vbar_categorical\n",
      "7 ====> vbar_categorical\n",
      "8 ====> line\n",
      "9 ====> line\n",
      "10 ====> dot_line\n",
      "11 ====> hbar_categorical\n",
      "12 ====> line\n",
      "13 ====> line\n",
      "14 ====> pie\n",
      "15 ====> line\n",
      "16 ====> hbar_categorical\n",
      "17 ====> vbar_categorical\n",
      "18 ====> dot_line\n",
      "19 ====> hbar_categorical\n",
      "20 ====> dot_line\n",
      "21 ====> pie\n",
      "22 ====> line\n",
      "23 ====> pie\n",
      "24 ====> vbar_categorical\n",
      "25 ====> hbar_categorical\n",
      "26 ====> hbar_categorical\n",
      "27 ====> dot_line\n",
      "28 ====> pie\n",
      "29 ====> pie\n",
      "30 ====> hbar_categorical\n",
      "31 ====> line\n",
      "32 ====> vbar_categorical\n",
      "33 ====> hbar_categorical\n",
      "34 ====> hbar_categorical\n",
      "35 ====> line\n",
      "36 ====> vbar_categorical\n",
      "37 ====> dot_line\n",
      "38 ====> vbar_categorical\n",
      "39 ====> dot_line\n",
      "40 ====> dot_line\n",
      "41 ====> vbar_categorical\n",
      "42 ====> pie\n",
      "43 ====> hbar_categorical\n",
      "44 ====> pie\n",
      "45 ====> hbar_categorical\n",
      "46 ====> line\n",
      "47 ====> pie\n",
      "48 ====> pie\n",
      "49 ====> line\n"
     ]
    }
   ],
   "source": [
    "for i in range(50):\n",
    "  print(i,\"====>\",predictions[i])"
   ]
  },
  {
   "cell_type": "code",
   "execution_count": 63,
   "metadata": {
    "id": "_AH1ZER0yEKA"
   },
   "outputs": [],
   "source": [
    "#alexNet for image classification on our dataset\n",
    "alex_net=keras.models.Sequential()\n",
    "\n",
    "alex_net.add(keras.layers.Conv2D(filters=96,strides=4,kernel_size=(11,11),activation='relu',input_shape=(128,128,3)))\n",
    "alex_net.add(keras.layers.MaxPool2D(pool_size=(3,3),strides=2))\n",
    "\n",
    "alex_net.add(keras.layers.Conv2D(filters=256,padding='same',kernel_size=(5,5),activation='relu'))\n",
    "alex_net.add(keras.layers.MaxPool2D(pool_size=(3,3),strides=2))\n",
    "\n",
    "alex_net.add(keras.layers.Conv2D(filters=384,padding='same',kernel_size=(3,3),activation='relu'))\n",
    "alex_net.add(keras.layers.Conv2D(filters=384,padding='same',kernel_size=(3,3),activation='relu'))\n",
    "alex_net.add(keras.layers.Conv2D(filters=384,padding='same',kernel_size=(3,3),activation='relu'))\n",
    "alex_net.add(keras.layers.MaxPool2D(pool_size=(3,3),strides=2))\n",
    "\n",
    "alex_net.add(keras.layers.Flatten())\n",
    "\n",
    "alex_net.add(keras.layers.Dense(4096,activation='softmax'))\n",
    "\n",
    "alex_net.add(keras.layers.Dense(4096,activation='softmax'))\n",
    "\n",
    "alex_net.add(keras.layers.Dense(5,activation='softmax'))\n",
    "alex_net.compile(optimizer='adam',loss='categorical_crossentropy',metrics=['accuracy'])\n",
    "\n"
   ]
  },
  {
   "cell_type": "code",
   "execution_count": 64,
   "metadata": {
    "colab": {
     "base_uri": "https://localhost:8080/"
    },
    "id": "w0cTpQggVEUj",
    "outputId": "abb5983e-7570-4cf1-a4b4-2703e1e7f5ad"
   },
   "outputs": [
    {
     "name": "stdout",
     "output_type": "stream",
     "text": [
      "Epoch 1/10\n",
      "80/80 [==============================] - 74s 901ms/step - loss: 1.6098 - accuracy: 0.1912 - val_loss: 1.6100 - val_accuracy: 0.1750\n",
      "Epoch 2/10\n",
      "80/80 [==============================] - 72s 900ms/step - loss: 1.6097 - accuracy: 0.1937 - val_loss: 1.6108 - val_accuracy: 0.1700\n",
      "Epoch 3/10\n",
      "80/80 [==============================] - 74s 926ms/step - loss: 1.6097 - accuracy: 0.1950 - val_loss: 1.6111 - val_accuracy: 0.1700\n",
      "Epoch 4/10\n",
      "80/80 [==============================] - 74s 920ms/step - loss: 1.6095 - accuracy: 0.1900 - val_loss: 1.6120 - val_accuracy: 0.1700\n",
      "Epoch 5/10\n",
      "80/80 [==============================] - 72s 903ms/step - loss: 1.6095 - accuracy: 0.1937 - val_loss: 1.6122 - val_accuracy: 0.1700\n",
      "Epoch 6/10\n",
      "80/80 [==============================] - 72s 909ms/step - loss: 1.6094 - accuracy: 0.1887 - val_loss: 1.6123 - val_accuracy: 0.1700\n",
      "Epoch 7/10\n",
      "80/80 [==============================] - 76s 953ms/step - loss: 1.6095 - accuracy: 0.1988 - val_loss: 1.6128 - val_accuracy: 0.1700\n",
      "Epoch 8/10\n",
      "80/80 [==============================] - 73s 911ms/step - loss: 1.6095 - accuracy: 0.2075 - val_loss: 1.6133 - val_accuracy: 0.1700\n",
      "Epoch 9/10\n",
      "80/80 [==============================] - 73s 910ms/step - loss: 1.6094 - accuracy: 0.2075 - val_loss: 1.6127 - val_accuracy: 0.1700\n",
      "Epoch 10/10\n",
      "80/80 [==============================] - 74s 930ms/step - loss: 1.6094 - accuracy: 0.2075 - val_loss: 1.6129 - val_accuracy: 0.1700\n"
     ]
    },
    {
     "data": {
      "text/plain": [
       "<keras.callbacks.History at 0x7efdfe7331c0>"
      ]
     },
     "execution_count": 64,
     "metadata": {},
     "output_type": "execute_result"
    }
   ],
   "source": [
    "alex_net.fit(x_train,y_train,epochs=10,batch_size=10,shuffle=True,validation_split=0.2)"
   ]
  },
  {
   "cell_type": "code",
   "execution_count": 64,
   "metadata": {
    "id": "A7iOLqQRWmwZ"
   },
   "outputs": [],
   "source": []
  }
 ],
 "metadata": {
  "colab": {
   "provenance": []
  },
  "kernelspec": {
   "display_name": "Python 3 (ipykernel)",
   "language": "python",
   "name": "python3"
  },
  "language_info": {
   "codemirror_mode": {
    "name": "ipython",
    "version": 3
   },
   "file_extension": ".py",
   "mimetype": "text/x-python",
   "name": "python",
   "nbconvert_exporter": "python",
   "pygments_lexer": "ipython3",
   "version": "3.9.7"
  }
 },
 "nbformat": 4,
 "nbformat_minor": 1
}

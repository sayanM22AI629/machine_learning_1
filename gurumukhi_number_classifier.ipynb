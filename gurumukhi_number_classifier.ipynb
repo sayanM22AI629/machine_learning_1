{
 "cells": [
  {
   "cell_type": "code",
   "execution_count": 1,
   "metadata": {
    "id": "SLclzWhbONfB"
   },
   "outputs": [],
   "source": [
    "from os import listdir\n",
    "import cv2\n",
    "import numpy as np\n",
    "from tensorflow import keras\n",
    "from math import exp"
   ]
  },
  {
   "cell_type": "code",
   "execution_count": 2,
   "metadata": {
    "id": "LNwvH5EyPd2I"
   },
   "outputs": [],
   "source": [
    "#reading the traing data\n",
    "x_train=[]\n",
    "y_train=[]\n",
    "\n",
    "for i in range(0,10):\n",
    "  label=[0,0,0,0,0,0,0,0,0,0]\n",
    "  label[i]=1\n",
    "  for j in range(1,101):\n",
    "    # provide path for the image \n",
    "    path='/content/drive/MyDrive/Colab Notebooks/Q2_ML_ASS_1_Anand_mishra/train/'+str(i)+'/'+str(j)+'.bmp'\n",
    "    #0 is the flag to read the image in grayscale.\n",
    "    #flatten is used to convert the array to one dimensional array\n",
    "    img = cv2.imread(path,0).flatten()\n",
    "    x_train.append(list(img/255))\n",
    "    y_train.append(label)\n",
    " "
   ]
  },
  {
   "cell_type": "code",
   "execution_count": 3,
   "metadata": {
    "id": "qWCAcYiFQ43w"
   },
   "outputs": [],
   "source": [
    "#reading the test data\n",
    "x_test=[]\n",
    "y_test=[]\n",
    "for i in range(0,10):\n",
    "  label=[0,0,0,0,0,0,0,0,0,0]\n",
    "  label[i]=1\n",
    "# provide path for the image \n",
    "  dir_path='/content/drive/MyDrive/Colab Notebooks/Q2_ML_ASS_1_Anand_mishra/val/'+str(i)\n",
    "  for im in listdir(dir_path):\n",
    "    path='/content/drive/MyDrive/Colab Notebooks/Q2_ML_ASS_1_Anand_mishra/val/'+str(i)+'/'+im\n",
    "    #0 is the flag to read the image in grayscale.\n",
    "    #flatten is used to convert the array to one dimensional array\n",
    "    img = cv2.imread(path,0).flatten()\n",
    "    x_test.append(list(img/255))\n",
    "    y_test.append(label)\n"
   ]
  },
  {
   "cell_type": "code",
   "execution_count": 4,
   "metadata": {
    "id": "smuUEvjS_TDy"
   },
   "outputs": [],
   "source": [
    "model=keras.models.Sequential()\n",
    "model.add(keras.layers.Dense(1024,activation='softmax'))\n",
    "model.add(keras.layers.Dense(10,activation='softmax'))\n",
    "\n",
    "model.compile(optimizer='adam',loss='categorical_crossentropy',metrics=['accuracy'])"
   ]
  },
  {
   "cell_type": "code",
   "execution_count": 5,
   "metadata": {
    "colab": {
     "base_uri": "https://localhost:8080/"
    },
    "id": "XTPGpvkgA9m5",
    "outputId": "a995b601-fa04-49e8-e8e0-8ebb39640717"
   },
   "outputs": [
    {
     "name": "stdout",
     "output_type": "stream",
     "text": [
      "Epoch 1/20\n",
      "8/8 [==============================] - 2s 164ms/step - loss: 2.2958 - accuracy: 0.3410 - val_loss: 2.2864 - val_accuracy: 0.6685\n",
      "Epoch 2/20\n",
      "8/8 [==============================] - 0s 33ms/step - loss: 2.2713 - accuracy: 0.7590 - val_loss: 2.2625 - val_accuracy: 0.6742\n",
      "Epoch 3/20\n",
      "8/8 [==============================] - 0s 33ms/step - loss: 2.2410 - accuracy: 0.8320 - val_loss: 2.2330 - val_accuracy: 0.7303\n",
      "Epoch 4/20\n",
      "8/8 [==============================] - 0s 33ms/step - loss: 2.2128 - accuracy: 0.8310 - val_loss: 2.2102 - val_accuracy: 0.7528\n",
      "Epoch 5/20\n",
      "8/8 [==============================] - 0s 32ms/step - loss: 2.1890 - accuracy: 0.8660 - val_loss: 2.1877 - val_accuracy: 0.8090\n",
      "Epoch 6/20\n",
      "8/8 [==============================] - 0s 30ms/step - loss: 2.1677 - accuracy: 0.9110 - val_loss: 2.1677 - val_accuracy: 0.8202\n",
      "Epoch 7/20\n",
      "8/8 [==============================] - 0s 31ms/step - loss: 2.1476 - accuracy: 0.9290 - val_loss: 2.1482 - val_accuracy: 0.8596\n",
      "Epoch 8/20\n",
      "8/8 [==============================] - 0s 32ms/step - loss: 2.1288 - accuracy: 0.9340 - val_loss: 2.1313 - val_accuracy: 0.8427\n",
      "Epoch 9/20\n",
      "8/8 [==============================] - 0s 30ms/step - loss: 2.1101 - accuracy: 0.9370 - val_loss: 2.1128 - val_accuracy: 0.8876\n",
      "Epoch 10/20\n",
      "8/8 [==============================] - 0s 31ms/step - loss: 2.0920 - accuracy: 0.9450 - val_loss: 2.0959 - val_accuracy: 0.8876\n",
      "Epoch 11/20\n",
      "8/8 [==============================] - 0s 33ms/step - loss: 2.0748 - accuracy: 0.9510 - val_loss: 2.0785 - val_accuracy: 0.8989\n",
      "Epoch 12/20\n",
      "8/8 [==============================] - 0s 31ms/step - loss: 2.0579 - accuracy: 0.9470 - val_loss: 2.0621 - val_accuracy: 0.8989\n",
      "Epoch 13/20\n",
      "8/8 [==============================] - 0s 32ms/step - loss: 2.0412 - accuracy: 0.9570 - val_loss: 2.0452 - val_accuracy: 0.9045\n",
      "Epoch 14/20\n",
      "8/8 [==============================] - 0s 31ms/step - loss: 2.0252 - accuracy: 0.9530 - val_loss: 2.0299 - val_accuracy: 0.9101\n",
      "Epoch 15/20\n",
      "8/8 [==============================] - 0s 30ms/step - loss: 2.0090 - accuracy: 0.9590 - val_loss: 2.0144 - val_accuracy: 0.9101\n",
      "Epoch 16/20\n",
      "8/8 [==============================] - 0s 32ms/step - loss: 1.9925 - accuracy: 0.9600 - val_loss: 1.9987 - val_accuracy: 0.9270\n",
      "Epoch 17/20\n",
      "8/8 [==============================] - 0s 32ms/step - loss: 1.9767 - accuracy: 0.9680 - val_loss: 1.9832 - val_accuracy: 0.9213\n",
      "Epoch 18/20\n",
      "8/8 [==============================] - 0s 31ms/step - loss: 1.9611 - accuracy: 0.9730 - val_loss: 1.9683 - val_accuracy: 0.9213\n",
      "Epoch 19/20\n",
      "8/8 [==============================] - 0s 31ms/step - loss: 1.9454 - accuracy: 0.9770 - val_loss: 1.9546 - val_accuracy: 0.9326\n",
      "Epoch 20/20\n",
      "8/8 [==============================] - 0s 30ms/step - loss: 1.9299 - accuracy: 0.9780 - val_loss: 1.9397 - val_accuracy: 0.9326\n"
     ]
    },
    {
     "data": {
      "text/plain": [
       "<keras.callbacks.History at 0x7efed486f310>"
      ]
     },
     "execution_count": 5,
     "metadata": {},
     "output_type": "execute_result"
    }
   ],
   "source": [
    "model.fit(x_train,y_train,epochs=20,batch_size=128,shuffle=True,validation_data=(x_test,y_test))"
   ]
  },
  {
   "cell_type": "code",
   "execution_count": 6,
   "metadata": {
    "colab": {
     "base_uri": "https://localhost:8080/"
    },
    "id": "g9QZbRIDUDtQ",
    "outputId": "7f328ab3-1b16-4fa6-b5be-18a60e0d8c40"
   },
   "outputs": [
    {
     "data": {
      "text/plain": [
       "(1024, 10)"
      ]
     },
     "execution_count": 6,
     "metadata": {},
     "output_type": "execute_result"
    }
   ],
   "source": [
    "model.get_weights()[2].shape"
   ]
  },
  {
   "cell_type": "code",
   "execution_count": 7,
   "metadata": {
    "id": "0PiAqhA3V7Q9"
   },
   "outputs": [],
   "source": [
    "#prediction method from scratch\n",
    "def predict(image_path,weights_biases):\n",
    "  img=cv2.imread(image_path,0).flatten()/255\n",
    "  layer1_vals=[]\n",
    "  layer1_weights=weights_biases[0].transpose()\n",
    "  layer1_bias=weights_biases[1]\n",
    "  for i in range(len(layer1_weights)):\n",
    "    layer1_vals.append(exp(sum(layer1_weights[i]*img)+ layer1_bias[i]))\n",
    "  #print(layer1_vals)\n",
    "  layer1_vals=np.array(layer1_vals)/sum(layer1_vals)\n",
    "  layer2_vals=[]\n",
    "  layer2_weights=weights_biases[2].transpose()\n",
    "  layer2_bias=weights_biases[3]\n",
    "  for i in range(len(layer2_weights)):\n",
    "    layer2_vals.append(exp(sum(layer2_weights[i]*layer1_vals)+ layer2_bias[i]))\n",
    "  layer2_vals=np.array(layer2_vals)/sum(layer2_vals)\n",
    "  layer2_vals=list(layer2_vals)\n",
    "  #print(layer2_vals)\n",
    "  print(layer2_vals.index(max(layer2_vals)))\n",
    "\n"
   ]
  },
  {
   "cell_type": "code",
   "execution_count": 8,
   "metadata": {
    "id": "fqmavydWiWh7"
   },
   "outputs": [],
   "source": [
    "im_path='/content/drive/MyDrive/Colab Notebooks/Q2_ML_ASS_1_Anand_mishra/val/3/1.tiff'"
   ]
  },
  {
   "cell_type": "code",
   "execution_count": 9,
   "metadata": {
    "colab": {
     "base_uri": "https://localhost:8080/"
    },
    "id": "zD_rvsdBihnR",
    "outputId": "cfcaef61-cd70-4e62-ebeb-2ee25cf34e79"
   },
   "outputs": [
    {
     "name": "stdout",
     "output_type": "stream",
     "text": [
      "3\n"
     ]
    }
   ],
   "source": [
    "predict(im_path,model.get_weights())"
   ]
  }
 ],
 "metadata": {
  "colab": {
   "provenance": []
  },
  "kernelspec": {
   "display_name": "Python 3 (ipykernel)",
   "language": "python",
   "name": "python3"
  },
  "language_info": {
   "codemirror_mode": {
    "name": "ipython",
    "version": 3
   },
   "file_extension": ".py",
   "mimetype": "text/x-python",
   "name": "python",
   "nbconvert_exporter": "python",
   "pygments_lexer": "ipython3",
   "version": "3.9.7"
  }
 },
 "nbformat": 4,
 "nbformat_minor": 1
}

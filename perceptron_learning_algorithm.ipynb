{
 "cells": [
  {
   "cell_type": "code",
   "execution_count": 17,
   "id": "667f2fa7",
   "metadata": {},
   "outputs": [],
   "source": [
    "import numpy as np"
   ]
  },
  {
   "cell_type": "code",
   "execution_count": 18,
   "id": "6eb24a44",
   "metadata": {},
   "outputs": [],
   "source": [
    "x=np.array([[1,1],[-1,-1],[0,0.5],[0.1,0.5],[0.2,0.2],[0.9,0.5]])\n",
    "y=np.array([1,-1,-1,-1,1,1])"
   ]
  },
  {
   "cell_type": "code",
   "execution_count": 25,
   "id": "a42cce13",
   "metadata": {},
   "outputs": [],
   "source": [
    "w=np.array([1,1])"
   ]
  },
  {
   "cell_type": "code",
   "execution_count": 26,
   "id": "77893062",
   "metadata": {},
   "outputs": [],
   "source": [
    "success_rate=0\n"
   ]
  },
  {
   "cell_type": "code",
   "execution_count": 27,
   "id": "b4a99ea8",
   "metadata": {},
   "outputs": [
    {
     "name": "stdout",
     "output_type": "stream",
     "text": [
      "[1 1]\n",
      "0.6666666666666666\n",
      "[1 1]\n",
      "0.6666666666666666\n",
      "[1.  0.5]\n",
      "0.6666666666666666\n",
      "[0.9 0. ]\n",
      "0.6666666666666666\n",
      "[0.9 0. ]\n",
      "0.6666666666666666\n",
      "[0.9 0. ]\n",
      "0.6666666666666666\n",
      "[0.9 0. ]\n",
      "0.6666666666666666\n",
      "[0.9 0. ]\n",
      "0.6666666666666666\n",
      "[ 0.9 -0.5]\n",
      "1.0\n"
     ]
    }
   ],
   "source": [
    "while success_rate!=1:\n",
    "    for i in range (0,len(x)):\n",
    "        correct_classifed=0\n",
    "        if y[i]==1 and sum(x[i]*w)<0:\n",
    "            w=w+x[i]\n",
    "        if y[i]==-1 and sum(x[i]*w)>=0:\n",
    "            w=w-x[i]\n",
    "        print(w)        \n",
    "        for i in range (0,len(x)):\n",
    "            if (y[i]==1 and sum(x[i]*w)>=0) or (y[i]==-1 and sum(x[i]*w)<0):\n",
    "                correct_classifed+=1\n",
    "        success_rate=correct_classifed/len(x)\n",
    "        print(success_rate)\n",
    "        if success_rate==1:\n",
    "            break\n",
    "        \n",
    "    \n",
    "            \n",
    "    "
   ]
  },
  {
   "cell_type": "code",
   "execution_count": 12,
   "id": "d7b97e16",
   "metadata": {},
   "outputs": [
    {
     "data": {
      "text/plain": [
       "array([0., 0.])"
      ]
     },
     "execution_count": 12,
     "metadata": {},
     "output_type": "execute_result"
    }
   ],
   "source": []
  },
  {
   "cell_type": "code",
   "execution_count": null,
   "id": "5e1a35a9",
   "metadata": {},
   "outputs": [],
   "source": []
  }
 ],
 "metadata": {
  "kernelspec": {
   "display_name": "Python 3 (ipykernel)",
   "language": "python",
   "name": "python3"
  },
  "language_info": {
   "codemirror_mode": {
    "name": "ipython",
    "version": 3
   },
   "file_extension": ".py",
   "mimetype": "text/x-python",
   "name": "python",
   "nbconvert_exporter": "python",
   "pygments_lexer": "ipython3",
   "version": "3.9.7"
  }
 },
 "nbformat": 4,
 "nbformat_minor": 5
}
